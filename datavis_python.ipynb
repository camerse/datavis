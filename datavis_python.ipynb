{
 "cells": [
  {
   "cell_type": "code",
   "execution_count": null,
   "metadata": {
    "collapsed": false
   },
   "outputs": [],
   "source": [
    "import ggplot as gg\n",
    "import matplotlib.pyplot as plt\n",
    "import numpy as np\n",
    "import pandas as pd\n",
    "from pandas.tools.plotting import scatter_matrix\n",
    "import seaborn as sns"
   ]
  },
  {
   "cell_type": "code",
   "execution_count": null,
   "metadata": {
    "collapsed": false
   },
   "outputs": [],
   "source": [
    "plt.ion()\n",
    "sns.set_style('white')"
   ]
  },
  {
   "cell_type": "code",
   "execution_count": null,
   "metadata": {
    "collapsed": false
   },
   "outputs": [],
   "source": [
    "def ggplot(data, mapping, *args, **kwargs):\n",
    "    out = gg.ggplot(data, mapping, *args, **kwargs)\n",
    "    out += gg.theme_bw()\n",
    "    return out"
   ]
  },
  {
   "cell_type": "code",
   "execution_count": null,
   "metadata": {
    "collapsed": false
   },
   "outputs": [],
   "source": [
    "def rt(f, sep='\\t', index_col=0, header=0, *args, **kwargs):\n",
    "    return pd.read_csv(f, sep=sep, index_col=index_col, header=header, *args, **kwargs)"
   ]
  },
  {
   "cell_type": "code",
   "execution_count": null,
   "metadata": {
    "collapsed": false
   },
   "outputs": [],
   "source": [
    "logTpm = rt('gse75386_logtpm_filtered.tsv.gz')\n",
    "trxAnnot = rt('Mus_musculus_GRCm38_82_TranscriptMap.tsv.gz')\n",
    "trxAnnot = trxAnnot.loc[logTpm.index]\n",
    "annot = rt('gse75386_processed_annot.tsv')\n",
    "annot.head()"
   ]
  },
  {
   "cell_type": "code",
   "execution_count": null,
   "metadata": {
    "collapsed": false
   },
   "outputs": [],
   "source": [
    "cellType = annot['type']\n",
    "simpleType = pd.Series({\n",
    "    'CA1 cholecystokinin cell' : \"Cck\",\n",
    "    'CA1 parvalbumin cell' : \"Pvalb\",\n",
    "    'CA1 pyramidal cell' : \"Pyramidal\"\n",
    "})[cellType]\n",
    "simpleType.index = cellType.index\n",
    "simpleType.value_counts()"
   ]
  },
  {
   "cell_type": "code",
   "execution_count": null,
   "metadata": {
    "collapsed": false
   },
   "outputs": [],
   "source": [
    "gse75386 = pd.DataFrame({\n",
    "    'class' : simpleType[logTpm.columns],\n",
    "    'Pvalb' : logTpm.loc['ENSMUST00000005860'],\n",
    "    'Cck' : logTpm.loc['ENSMUST00000035120'],\n",
    "    'Gad1' : logTpm.loc['ENSMUST00000140478']\n",
    "}, index = logTpm.columns)\n",
    "gse75386.head()"
   ]
  },
  {
   "cell_type": "code",
   "execution_count": null,
   "metadata": {
    "collapsed": false
   },
   "outputs": [],
   "source": [
    "## python ggplot has trouble with strip-charts, so use seaborn\n",
    "plt.close()\n",
    "# plt.figure(figsize=(6, 1))\n",
    "sns.stripplot(data=gse75386, y='class', x='Gad1', color='black')\n",
    "# plt.savefig('gse75386_gad1_stripchart_bw.pdf',\n",
    "#             format='pdf', bbox_inches='tight')"
   ]
  },
  {
   "cell_type": "code",
   "execution_count": null,
   "metadata": {
    "collapsed": false
   },
   "outputs": [],
   "source": [
    "## mean bars +/- standard error using seaborn\n",
    "plt.close()\n",
    "# plt.figure(figsize=(6, 1))\n",
    "sns.barplot(data=gse75386, y='class', x='Gad1', color='slategray', ci=68)\n",
    "# plt.savefig('gse75386_gad1_barchart_stat.pdf',\n",
    "#             format='pdf', bbox_inches='tight')"
   ]
  },
  {
   "cell_type": "code",
   "execution_count": null,
   "metadata": {
    "collapsed": false
   },
   "outputs": [],
   "source": [
    "plt.close()\n",
    "# plt.figure(figsize=(6, 1))\n",
    "sns.boxplot(data=gse75386, y='class', x='Gad1', color='white')\n",
    "sns.stripplot(data=gse75386, y='class', x='Gad1', color='black')\n",
    "# plt.savefig('gse75386_gad1_boxplot.pdf',\n",
    "#             format='pdf', bbox_inches='tight')"
   ]
  },
  {
   "cell_type": "code",
   "execution_count": null,
   "metadata": {
    "collapsed": false
   },
   "outputs": [],
   "source": [
    "plt.close()\n",
    "ggscat = ggplot(\n",
    "    gse75386,\n",
    "    gg.aes(x='Gad1', y='Cck', color='class')\n",
    ")\n",
    "ggscat += gg.geom_point(alpha=0.75)\n",
    "ggscat += gg.scale_color_manual(\n",
    "        values=['darkslategray', 'goldenrod', 'lightseagreen'])\n",
    "print(ggscat)\n",
    "# ggscat.save('gse75386_cck_vs_gad1.png',\n",
    "#             height=5, width=7)"
   ]
  },
  {
   "cell_type": "code",
   "execution_count": null,
   "metadata": {
    "collapsed": false
   },
   "outputs": [],
   "source": [
    "def binarize(x, column, brk):\n",
    "    out = pd.Series(['low ' + column]*x.shape[0], index=x.index)\n",
    "    out.loc[x[column] > brk] = 'high ' + column\n",
    "    return out"
   ]
  },
  {
   "cell_type": "code",
   "execution_count": null,
   "metadata": {
    "collapsed": false
   },
   "outputs": [],
   "source": [
    "gse75386['Pvalb (cut)'] = binarize(gse75386, 'Pvalb', 5)\n",
    "gse75386['Gad1 (cut)'] = binarize(gse75386, 'Gad1', 6)\n",
    "gse75386.head()"
   ]
  },
  {
   "cell_type": "code",
   "execution_count": null,
   "metadata": {
    "collapsed": false
   },
   "outputs": [],
   "source": [
    "plt.close()\n",
    "ggscat = ggplot(\n",
    "    gse75386,\n",
    "    gg.aes(x='Gad1', y='Cck', color='class', size='Pvalb (cut)')\n",
    ")\n",
    "ggscat += gg.geom_point(alpha=0.75)\n",
    "ggscat += gg.scale_color_manual(\n",
    "values=['darkslategray', 'goldenrod', 'lightseagreen'])\n",
    "print(ggscat)\n",
    "# ggscat.save('gse75386_cck_vs_gad1_sized_by_pvalb.png',\n",
    "#             height=5, width=7)"
   ]
  },
  {
   "cell_type": "code",
   "execution_count": null,
   "metadata": {
    "collapsed": false
   },
   "outputs": [],
   "source": [
    "gse75386['odd'] = annot.loc[logTpm.columns, 'title']\n",
    "## Pyramidal cells with low Gad1 and low Pvalb are not odd\n",
    "gse75386.loc[(gse75386['class'] == 'Pyramidal') &\n",
    "             (gse75386['Gad1 (cut)'] == 'low Gad1') &\n",
    "             (gse75386['Pvalb (cut)'] == 'low Pvalb'),\n",
    "             'odd'] = ''\n",
    "## Pvalb cells with high Gad1 and high Pvalb are not odd\n",
    "gse75386.loc[(gse75386['class'] == 'Pvalb') &\n",
    "             (gse75386['Gad1 (cut)'] == 'high Gad1') &\n",
    "             (gse75386['Pvalb (cut)'] == 'high Pvalb'),\n",
    "             'odd'] = ''\n",
    "## Cck cells with high Gad1 and low Pvalb are not odd\n",
    "gse75386.loc[(gse75386['class'] == 'Cck') &\n",
    "             (gse75386['Gad1 (cut)'] == 'high Gad1') &\n",
    "             (gse75386['Pvalb (cut)'] == 'low Pvalb'),\n",
    "             'odd'] = ''"
   ]
  },
  {
   "cell_type": "code",
   "execution_count": null,
   "metadata": {
    "collapsed": false
   },
   "outputs": [],
   "source": [
    "# ## python geom_text seems to be a bit buggy---may have to uncomment\n",
    "# ## following code to avoid lines connecting unlabeled points\n",
    "# for i, idx in enumerate(gse75386.index):\n",
    "#     if gse75386.loc[idx, 'odd'] == '':\n",
    "#         gse75386.loc[idx, 'odd'] = ''.join([' '] * i)"
   ]
  },
  {
   "cell_type": "code",
   "execution_count": null,
   "metadata": {
    "collapsed": false
   },
   "outputs": [],
   "source": [
    "plt.close()\n",
    "ggscat = ggplot(\n",
    "    gse75386,\n",
    "    gg.aes(x='Gad1', y='Cck', color='class',\n",
    "           size='Pvalb (cut)', label='odd')\n",
    ")\n",
    "ggscat += gg.scale_color_manual(\n",
    "        values=['darkslategray', 'goldenrod', 'lightseagreen'])\n",
    "ggscat += gg.geom_point(alpha=0.75)\n",
    "ggscat += gg.geom_text(size=10)\n",
    "print(ggscat)\n",
    "# ggscat.save('gse75386_cck_vs_gad1_sized_by_pvalb_odds_labeled.png',\n",
    "#             height=5, width=7)"
   ]
  },
  {
   "cell_type": "code",
   "execution_count": null,
   "metadata": {
    "collapsed": false
   },
   "outputs": [],
   "source": [
    "## alternately can generate similar scatterplot using seaborn\n",
    "plt.close()\n",
    "plt.figure(figsize=(5, 7))\n",
    "p = sns.lmplot(data=gse75386.sort_index(), x='Gad1', y='Cck', hue='class',\n",
    "               palette={'Cck' : 'darkslategray',\n",
    "                        'Pvalb' : 'goldenrod',\n",
    "                        'Pyramidal' : 'lightseagreen'},\n",
    "               scatter_kws={'alpha': 0.75},\n",
    "               legend=False, fit_reg=False)\n",
    "# plt.savefig('gse75386_cck_vs_gad1.pdf',\n",
    "#             format='pdf', bbox_inches='tight')"
   ]
  },
  {
   "cell_type": "code",
   "execution_count": null,
   "metadata": {
    "collapsed": false
   },
   "outputs": [],
   "source": [
    "## adding text to seaborn plot is a bit more painful than for ggplot...\n",
    "for i in range(gse75386.shape[0]):\n",
    "    p.fig.text(0.12 + 0.8*gse75386['Gad1'].iloc[i] / gse75386['Gad1'].max(),\n",
    "               0.15 + 0.78*gse75386['Cck'].iloc[i] / gse75386['Cck'].max(),\n",
    "               gse75386['odd'].iloc[i])\n",
    "# plt.savefig('gse75386_cck_vs_gad1_odds_labeled.pdf',\n",
    "#             format='pdf', bbox_inches='tight')"
   ]
  },
  {
   "cell_type": "code",
   "execution_count": null,
   "metadata": {
    "collapsed": false
   },
   "outputs": [],
   "source": [
    "## python ggplot not yet capable of good minard plot."
   ]
  },
  {
   "cell_type": "code",
   "execution_count": null,
   "metadata": {
    "collapsed": false
   },
   "outputs": [],
   "source": [
    "anscombe = rt('anscombe_orig.tsv')\n",
    "anscombe = pd.DataFrame({\n",
    "    'x' : pd.Series(list(anscombe['x0'])*3 + list(anscombe['x4'])).values,\n",
    "    'y' : pd.concat([anscombe['y1'], anscombe['y2'],\n",
    "                     anscombe['y3'], anscombe['y4']]).values,\n",
    "    'set' : 'set' + pd.Series(['1'] * anscombe.shape[0] +\n",
    "                              ['2'] * anscombe.shape[0] +\n",
    "                              ['3'] * anscombe.shape[0] +\n",
    "                              ['4'] * anscombe.shape[0]).values\n",
    "})\n",
    "anscombe.head()"
   ]
  },
  {
   "cell_type": "code",
   "execution_count": null,
   "metadata": {
    "collapsed": false
   },
   "outputs": [],
   "source": [
    "## seaborn's lmplot function often useful in same situations\n",
    "## one would want stat_smooth in R with ggplot2\n",
    "plt.close()\n",
    "sns.lmplot(data=anscombe, x='x', y='y', col='set')"
   ]
  },
  {
   "cell_type": "code",
   "execution_count": null,
   "metadata": {
    "collapsed": false
   },
   "outputs": [],
   "source": [
    "plt.close()\n",
    "sns.lmplot(data=anscombe, x='x', y='y', col='set', robust=True, ci=None)"
   ]
  },
  {
   "cell_type": "code",
   "execution_count": null,
   "metadata": {
    "collapsed": false
   },
   "outputs": [],
   "source": [
    "plt.close()\n",
    "sns.lmplot(data=anscombe, x='x', y='y', col='set', lowess=True)"
   ]
  },
  {
   "cell_type": "code",
   "execution_count": null,
   "metadata": {
    "collapsed": false
   },
   "outputs": [],
   "source": [
    "## for pairs plot / scatterplot matrix can either use seaborn:\n",
    "sns.pairplot(gse75386[['Gad1', 'Pvalb', 'Cck', 'class']])\n",
    "## or pandas own scatter_matrix function:\n",
    "scatter_matrix(gse75386[['Gad1', 'Pvalb', 'Cck', 'class']])\n",
    "## neither one includes the categorical variable class, though"
   ]
  },
  {
   "cell_type": "code",
   "execution_count": null,
   "metadata": {
    "collapsed": false
   },
   "outputs": [],
   "source": [
    "## seaborn's clustermap function is similar to R's pheatmap\n",
    "theGenes = [\n",
    "    'Npy',\n",
    "    'Cacna1d',\n",
    "    'Hcn1',\n",
    "    'Erbb4',\n",
    "    'Gad1',\n",
    "    'Pvalb',\n",
    "    'Slc17a8',\n",
    "    'Kcna1',\n",
    "    'Bcl11b',\n",
    "    'Chrm1',\n",
    "    'Calb1',\n",
    "    'Gabra1',\n",
    "    'Cck',\n",
    "    'S100a10',\n",
    "    'Vip'\n",
    "]\n",
    "theGeneData = logTpm.loc[trxAnnot.loc[logTpm.index, 'gene_name'].isin(theGenes)]\n",
    "## remove duplicate transcripts for same gene...\n",
    "theGeneData = theGeneData[~theGeneData.isin([\n",
    "    'ENSMUST00000094934',\n",
    "    'ENSMUST00000141336'\n",
    "])]\n",
    "## use gene_name instead of ensembl transcript id to identify genes\n",
    "theGeneData.index = trxAnnot.loc[theGeneData.index, 'gene_name']\n",
    "heatmapData = theGeneData.subtract(theGeneData.mean(axis=1), axis=0)\n",
    "heatmapColors = simpleType.loc[heatmapData.columns].copy()\n",
    "heatmapColors.loc[heatmapColors == 'Cck'] = 'darkslategray'\n",
    "heatmapColors.loc[heatmapColors == 'Pvalb'] = 'goldenrod'\n",
    "heatmapColors.loc[heatmapColors == 'Pyramidal'] = 'lightseagreen'\n",
    "sns.clustermap(heatmapData, method='average', col_colors=heatmapColors)"
   ]
  }
 ],
 "metadata": {
  "kernelspec": {
   "display_name": "Python 3",
   "language": "python",
   "name": "python3"
  },
  "language_info": {
   "codemirror_mode": {
    "name": "ipython",
    "version": 3
   },
   "file_extension": ".py",
   "mimetype": "text/x-python",
   "name": "python",
   "nbconvert_exporter": "python",
   "pygments_lexer": "ipython3",
   "version": "3.5.2"
  }
 },
 "nbformat": 4,
 "nbformat_minor": 1
}
